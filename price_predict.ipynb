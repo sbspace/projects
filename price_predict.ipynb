{
 "cells": [
  {
   "cell_type": "markdown",
   "metadata": {},
   "source": [
    "### 제품가격 예측 (regression) 튜토리얼\n",
    "- 비정형 텍스트 변수 포함된 mixed dataset - 텍스트 처리 (벡터화)\n",
    "- 다양한 비정형데이터(텍스트)를 어떻게 처리하는지..\n",
    "- 데이터 EDA, 전처리부터, 예측모델 학습, 평가까지의 프로세스"
   ]
  },
  {
   "cell_type": "markdown",
   "metadata": {},
   "source": [
    "1. 데이터 탐색(EDA) & 전처리"
   ]
  },
  {
   "cell_type": "code",
   "execution_count": 98,
   "metadata": {},
   "outputs": [
    {
     "name": "stdout",
     "output_type": "stream",
     "text": [
      "(148253, 8)\n"
     ]
    },
    {
     "data": {
      "text/html": [
       "<div>\n",
       "<style scoped>\n",
       "    .dataframe tbody tr th:only-of-type {\n",
       "        vertical-align: middle;\n",
       "    }\n",
       "\n",
       "    .dataframe tbody tr th {\n",
       "        vertical-align: top;\n",
       "    }\n",
       "\n",
       "    .dataframe thead th {\n",
       "        text-align: right;\n",
       "    }\n",
       "</style>\n",
       "<table border=\"1\" class=\"dataframe\">\n",
       "  <thead>\n",
       "    <tr style=\"text-align: right;\">\n",
       "      <th></th>\n",
       "      <th>train_id</th>\n",
       "      <th>name</th>\n",
       "      <th>item_condition_id</th>\n",
       "      <th>category_name</th>\n",
       "      <th>brand_name</th>\n",
       "      <th>price</th>\n",
       "      <th>shipping</th>\n",
       "      <th>item_description</th>\n",
       "    </tr>\n",
       "  </thead>\n",
       "  <tbody>\n",
       "    <tr>\n",
       "      <th>0</th>\n",
       "      <td>0</td>\n",
       "      <td>Hero 77 fountain pen</td>\n",
       "      <td>2</td>\n",
       "      <td>Other/Office supplies/Writing</td>\n",
       "      <td>NaN</td>\n",
       "      <td>12.0</td>\n",
       "      <td>1</td>\n",
       "      <td>For sale a brand new Hero 77 fountain pen, does not include the ink.</td>\n",
       "    </tr>\n",
       "  </tbody>\n",
       "</table>\n",
       "</div>"
      ],
      "text/plain": [
       "   train_id                  name  item_condition_id  \\\n",
       "0         0  Hero 77 fountain pen                  2   \n",
       "\n",
       "                   category_name brand_name  price  shipping  \\\n",
       "0  Other/Office supplies/Writing        NaN   12.0         1   \n",
       "\n",
       "                                                       item_description  \n",
       "0  For sale a brand new Hero 77 fountain pen, does not include the ink.  "
      ]
     },
     "execution_count": 98,
     "metadata": {},
     "output_type": "execute_result"
    }
   ],
   "source": [
    "from sklearn.linear_model import Ridge , LogisticRegression\n",
    "from sklearn.model_selection import train_test_split , cross_val_score\n",
    "import pandas as pd\n",
    "\n",
    "print(1)\n",
    "mercari_df= pd.read_csv('price_prediction.csv', encoding='latin1')\n",
    "print(mercari_df.shape)\n",
    "mercari_df.head(1) #백오십만개 가량의 레코드, 7개피처 1개 타겟"
   ]
  },
  {
   "cell_type": "code",
   "execution_count": 99,
   "metadata": {},
   "outputs": [
    {
     "name": "stdout",
     "output_type": "stream",
     "text": [
      "<class 'pandas.core.frame.DataFrame'>\n",
      "RangeIndex: 148253 entries, 0 to 148252\n",
      "Data columns (total 8 columns):\n",
      " #   Column             Non-Null Count   Dtype  \n",
      "---  ------             --------------   -----  \n",
      " 0   train_id           148253 non-null  int64  \n",
      " 1   name               148253 non-null  object \n",
      " 2   item_condition_id  148253 non-null  int64  \n",
      " 3   category_name      147612 non-null  object \n",
      " 4   brand_name         85262 non-null   object \n",
      " 5   price              148253 non-null  float64\n",
      " 6   shipping           148253 non-null  int64  \n",
      " 7   item_description   148253 non-null  object \n",
      "dtypes: float64(1), int64(3), object(4)\n",
      "memory usage: 9.0+ MB\n",
      "None             train_id  item_condition_id          price       shipping\n",
      "count  148253.000000      148253.000000  148253.000000  148253.000000\n",
      "mean    74126.000000           1.904164      26.807933       0.446413\n",
      "std     42797.099066           0.901663      39.358186       0.497122\n",
      "min         0.000000           1.000000       0.000000       0.000000\n",
      "25%     37063.000000           1.000000      10.000000       0.000000\n",
      "50%     74126.000000           2.000000      17.000000       0.000000\n",
      "75%    111189.000000           3.000000      29.000000       1.000000\n",
      "max    148252.000000           5.000000    2000.000000       1.000000\n"
     ]
    }
   ],
   "source": [
    "# 데이터 확인 후 NULL값 처리\n",
    "print(mercari_df.info(), mercari_df.describe())\n",
    "\n",
    "mercari_df['brand_name'] = mercari_df['brand_name'].fillna(value='Other_Null')\n",
    "mercari_df['category_name'] = mercari_df['category_name'].fillna(value='Other_Null')"
   ]
  },
  {
   "cell_type": "code",
   "execution_count": 100,
   "metadata": {},
   "outputs": [
    {
     "data": {
      "image/png": "[encoded data removed]",
      "text/plain": [
       "<Figure size 500x200 with 1 Axes>"
      ]
     },
     "metadata": {},
     "output_type": "display_data"
    }
   ],
   "source": [
    "# 회귀문제의 타겟값은 정규분포를 띄어야함. 정규성 확인 후 정규화 진행\n",
    "# log1p 로그 정규화의 장점은 expm1 로 원복이 쉬움. \n",
    "\n",
    "import matplotlib.pyplot as plt\n",
    "import seaborn as sns\n",
    "import numpy as np\n",
    "\n",
    "y_train_df = mercari_df['price']\n",
    "plt.figure(figsize=(5,2))\n",
    "sns.histplot(y_train_df, bins=100)\n",
    "plt.show()"
   ]
  },
  {
   "cell_type": "code",
   "execution_count": 101,
   "metadata": {},
   "outputs": [
    {
     "data": {
      "image/png": "[encoded data removed]",
      "text/plain": [
       "<Figure size 500x200 with 1 Axes>"
      ]
     },
     "metadata": {},
     "output_type": "display_data"
    }
   ],
   "source": [
    "y_train_df = np.log1p(y_train_df)\n",
    "plt.figure(figsize=(5,2))\n",
    "sns.histplot(y_train_df, bins=50)\n",
    "plt.show()\n",
    "\n",
    "# 정규화 진행\n",
    "mercari_df['price'] = np.log1p(mercari_df['price'])"
   ]
  },
  {
   "cell_type": "code",
   "execution_count": 102,
   "metadata": {},
   "outputs": [
    {
     "name": "stdout",
     "output_type": "stream",
     "text": [
      "0    82071\n",
      "1    66182\n",
      "Name: shipping, dtype: int64\n",
      "1    64183\n",
      "3    42936\n",
      "2    37730\n",
      "4     3173\n",
      "5      231\n",
      "Name: item_condition_id, dtype: int64\n"
     ]
    }
   ],
   "source": [
    "# Categorical 변수들 분포 확인. \n",
    "print(mercari_df['shipping'].value_counts(), \n",
    "      mercari_df['item_condition_id'].value_counts(), sep='\\n')"
   ]
  },
  {
   "cell_type": "code",
   "execution_count": 103,
   "metadata": {},
   "outputs": [
    {
     "name": "stdout",
     "output_type": "stream",
     "text": [
      "Other_Null    641\n",
      "Name: category_name, dtype: int64\n"
     ]
    }
   ],
   "source": [
    "# category_name 컬럼은 '/' 두개로 분리된 형식의 텍스트\n",
    "# / 를 기준으로 대,중,소 카테고리로 나눠주는 함수 생성\n",
    "\n",
    "# 혹시 category_name 컬럼에 '/'가 포함안된게 있는지 확인. \n",
    "non_slash = mercari_df[mercari_df['category_name'].apply(lambda x: '/' not in str(x))]\n",
    "print(non_slash['category_name'].value_counts())\n",
    "\n",
    "# / 를 기준으로 대,중,소 카테고리로 나눠주는 함수 생성\n",
    "def split_cat(category_name):\n",
    "    try:\n",
    "        if category_name.count('/') !=2:\n",
    "            return ['Other_Null' , 'Other_Null' , 'Other_Null']\n",
    "        else: \n",
    "            return category_name.split('/')\n",
    "    except:\n",
    "        return ['Other_Null' , 'Other_Null' , 'Other_Null']"
   ]
  },
  {
   "cell_type": "code",
   "execution_count": 104,
   "metadata": {},
   "outputs": [],
   "source": [
    "# 위의 split_cat( )을 apply lambda에서 호출하여 대,중,소 컬럼을 mercari_df에 생성.\n",
    "\n",
    "split_result = mercari_df['category_name'].apply(lambda x : split_cat(x))\n",
    "\n",
    "# split_result 는 3개의 원소를 가진 리스트 148253개의 시리즈. \n",
    "# zip(*split_result) 은 3개 원소를가진 리스트 148253개를 1,2,3번째 원소들끼리 묶은 튜플(148253길이의) 3개로 반환함.     \n",
    "mercari_df['cat_dae'], mercari_df['cat_jung'], mercari_df['cat_so'] = \\\n",
    "                        zip(*split_result)"
   ]
  },
  {
   "cell_type": "code",
   "execution_count": 105,
   "metadata": {},
   "outputs": [
    {
     "name": "stdout",
     "output_type": "stream",
     "text": [
      "대분류 유형 :\n",
      " Women                     66627\n",
      "Beauty                    20884\n",
      "Kids                      17036\n",
      "Electronics               11736\n",
      "Men                        9367\n",
      "Home                       6732\n",
      "Vintage & Collectibles     4698\n",
      "Other                      4570\n",
      "Handmade                   3077\n",
      "Sports & Outdoors          2461\n",
      "Other_Null                 1065\n",
      "Name: cat_dae, dtype: int64\n",
      "중분류 갯수 : 114\n",
      "소분류 갯수 : 735\n"
     ]
    }
   ],
   "source": [
    "# 대분류만 값의 유형과 건수를 살펴보고, 중분류, 소분류는 값의 유형이 많으므로 분류 갯수만 추출\n",
    "print('대분류 유형 :\\n', mercari_df['cat_dae'].value_counts())\n",
    "print('중분류 갯수 :', mercari_df['cat_jung'].nunique())\n",
    "print('소분류 갯수 :', mercari_df['cat_so'].nunique())"
   ]
  },
  {
   "cell_type": "markdown",
   "metadata": {},
   "source": [
    "2. 피처 인코딩 & 피처 벡터화\n",
    "- 텍스트 형식의 피쳐들은 인코딩(원-핫) 할지 벡터화 할것을 먼저 구분함. \n",
    "- 데이터의 종류가 너무 많으면 벡터화를 진행 (인코딩 시 피쳐가 너무 많고 희소해지면), 허용 가능한 수준이면 원핫 인코딩을 진행.\n",
    "- 데이터의 종류가 거의 고유값 수준으로 많은 경우 (ex. 레코드 개수의 80%) 인코딩하면 의미가 없지만 벡터화를 하면, 긴 텍스트 안에서 의미있는 정보를 추출 가능. \n",
    "- 피쳐 벡터화의 경우 짧은 텍스트는 Count기반, 긴 텍스트는 TF-IDF 기반으로 벡터화한다. "
   ]
  },
  {
   "cell_type": "code",
   "execution_count": 106,
   "metadata": {},
   "outputs": [
    {
     "name": "stdout",
     "output_type": "stream",
     "text": [
      "brand name 의 유형 건수 : 2321\n",
      "brand name sample 5건 : \n",
      " Other_Null           62991\n",
      "PINK                  5357\n",
      "Nike                  5331\n",
      "Victoria's Secret     4786\n",
      "LuLaRoe               3123\n",
      "Name: brand_name, dtype: int64\n",
      "cat_dae\n",
      "11\n",
      "---\n",
      "cat_jung\n",
      "114\n",
      "---\n",
      "cat_so\n",
      "735\n",
      "---\n"
     ]
    }
   ],
   "source": [
    "# branmd_name 피쳐는 종류가 많지 않고, 명료한 문자열이기에 인코딩 대상으로 선정\n",
    "print('brand name 의 유형 건수 :', mercari_df['brand_name'].nunique())\n",
    "print('brand name sample 5건 : \\n', mercari_df['brand_name'].value_counts()[:5])\n",
    "\n",
    "# 앞선 대/중/소 분류한 category_name 피처도 종류가 많지 않기에 원핫인코딩 적용\n",
    "for i in ['cat_dae','cat_jung','cat_so']:\n",
    "    print(i,mercari_df[i].nunique(),'---', sep='\\n')"
   ]
  },
  {
   "cell_type": "code",
   "execution_count": 107,
   "metadata": {},
   "outputs": [
    {
     "name": "stdout",
     "output_type": "stream",
     "text": [
      "name 의 종류 갯수 : 137558\n",
      "name sample 5건 : \n",
      " 0                        Hero 77 fountain pen\n",
      "1                    14K Yellow Gold Earrings\n",
      "2    New balance 2-in 1 size S dry fit shorts\n",
      "3     Zella black workout tank w mesh cut out\n",
      "4         NWT Lilly Pulitzer gabby dress sz 8\n",
      "Name: name, dtype: object\n"
     ]
    }
   ],
   "source": [
    "# name 컬럼은 종류가 너무 많고, 텍스트가 다소 적은 단어뭉치로 되어있기에 Count기반 벡터화를 진행.\n",
    "\n",
    "print('name 의 종류 갯수 :', mercari_df['name'].nunique())\n",
    "print('name sample 5건 : \\n', mercari_df['name'][:5])"
   ]
  },
  {
   "cell_type": "code",
   "execution_count": 108,
   "metadata": {},
   "outputs": [
    {
     "name": "stdout",
     "output_type": "stream",
     "text": [
      "descript의 종류 갯수 : 133753\n",
      "item_description 평균 문자열 개수: 146.3439120962139\n"
     ]
    },
    {
     "data": {
      "text/plain": [
       "0    For sale a brand new Hero 77 fountain pen, does not include the ink.\n",
       "1                       14k black Onyx earrings Good condition Final sale\n",
       "Name: item_description, dtype: object"
      ]
     },
     "execution_count": 108,
     "metadata": {},
     "output_type": "execute_result"
    }
   ],
   "source": [
    "# item_description 컬럼은 종류가 너무 많고, 텍스트의 길이 또한 길기 때문에 TF-IDF 기반의 피쳐벡터화를 진행\n",
    "\n",
    "pd.set_option('max_colwidth', 200) #DataFrame 열 최대 넓이 직정\n",
    "print('descript의 종류 갯수 :', mercari_df['item_description'].nunique())\n",
    "\n",
    "# item_description의 평균 문자열 개수\n",
    "print('item_description 평균 문자열 개수:',mercari_df['item_description'].str.len().mean())\n",
    "mercari_df['item_description'][:2]"
   ]
  },
  {
   "cell_type": "code",
   "execution_count": 109,
   "metadata": {},
   "outputs": [
    {
     "name": "stdout",
     "output_type": "stream",
     "text": [
      "(148253, 31497) (148253, 50000)\n",
      "[[0 0 0 ... 0 0 0]\n",
      " [0 0 0 ... 0 0 0]\n",
      " [0 0 0 ... 0 0 0]\n",
      " ...\n",
      " [0 0 0 ... 0 0 0]\n",
      " [0 0 0 ... 0 0 0]\n",
      " [0 0 0 ... 0 0 0]]\n"
     ]
    }
   ],
   "source": [
    "# 피쳐의 인코딩 및 벡터화 실행\n",
    "from sklearn.feature_extraction.text import CountVectorizer , TfidfVectorizer\n",
    "\n",
    "# name 속성에 대한 Count기반 feature vectorization 변환. \n",
    "cnt_vec = CountVectorizer()\n",
    "X_name = cnt_vec.fit_transform(mercari_df.name)\n",
    "\n",
    "# item_description 에 대한 feature vectorization 변환\n",
    "tfidf_descp = TfidfVectorizer(max_features = 50000, ngram_range= (1,3) , stop_words='english')\n",
    "X_descp = tfidf_descp.fit_transform(mercari_df['item_description'])\n",
    "\n",
    "# Vectorizer로 반환된 X_name, X_descp 은 CSR 형식의 희소행렬\n",
    "# 벡터화된 피쳐의 개수가 10만개 이상의 희소행렬 형태이기 때문에 \n",
    "# X_name, X_descp은 앞으로 인코딩할 cateogry, brand_name 등의 피쳐들과 같이 결합하여 데이터셋으로 재구성해야함. \n",
    "print(X_name.shape, X_descp.shape)\n",
    "# Dense 행렬로 변환해서 보기 \n",
    "print(X_name.toarray())"
   ]
  },
  {
   "cell_type": "code",
   "execution_count": 110,
   "metadata": {},
   "outputs": [],
   "source": [
    "# 희소행렬 형식으로 원핫인코딩하기. 벡터화된 피쳐들과 결합하기 위해. \n",
    "# 사이킷런의 원핫 인코딩 클래스 종류는 OneHotEncoder / LabelBinarizer 두개이고, 각각 반환값이 밀집/희소행렬로 다름.\n",
    "\n",
    "from sklearn.preprocessing import LabelBinarizer\n",
    "\n",
    "# brand_name, item_condition_id, shipping 각 피처들을 희소 행렬 원-핫 인코딩 변환\n",
    "lb_brand_name= LabelBinarizer(sparse_output=True)\n",
    "X_brand = lb_brand_name.fit_transform(mercari_df['brand_name'])\n",
    "\n",
    "lb_item_cond_id = LabelBinarizer(sparse_output=True)\n",
    "X_item_cond_id = lb_item_cond_id.fit_transform(mercari_df['item_condition_id'])\n",
    "\n",
    "lb_shipping= LabelBinarizer(sparse_output=True)\n",
    "X_shipping = lb_shipping.fit_transform(mercari_df['shipping'])\n",
    "\n",
    "# cat_dae, cat_jung, cat_so 각 피처들을 희소 행렬 원-핫 인코딩 변환\n",
    "lb_cat_dae = LabelBinarizer(sparse_output=True)\n",
    "X_cat_dae= lb_cat_dae.fit_transform(mercari_df['cat_dae'])\n",
    "\n",
    "lb_cat_jung = LabelBinarizer(sparse_output=True)\n",
    "X_cat_jung = lb_cat_jung.fit_transform(mercari_df['cat_jung'])\n",
    "\n",
    "lb_cat_so = LabelBinarizer(sparse_output=True)\n",
    "X_cat_so = lb_cat_so.fit_transform(mercari_df['cat_so'])"
   ]
  },
  {
   "cell_type": "code",
   "execution_count": 111,
   "metadata": {},
   "outputs": [
    {
     "name": "stdout",
     "output_type": "stream",
     "text": [
      "<class 'scipy.sparse._csr.csr_matrix'> (148253, 84684)\n"
     ]
    },
    {
     "data": {
      "text/plain": [
       "15416"
      ]
     },
     "execution_count": 111,
     "metadata": {},
     "output_type": "execute_result"
    }
   ],
   "source": [
    "# 피쳐 벡터화와 원핫인코딩으로 변환한 희소행렬들을 결합\n",
    "\n",
    "from  scipy.sparse import hstack\n",
    "import gc\n",
    "\n",
    "sparse_matrix_list = (X_name, X_descp, X_brand, X_item_cond_id,\n",
    "            X_shipping, X_cat_dae, X_cat_jung, X_cat_so)\n",
    "\n",
    "# 사이파이 sparse 모듈의 hstack 함수를 이용하여 앞에서 인코딩과 Vectorization을 수행한 데이터 셋을 모두 결합.\n",
    "X_features_sparse= hstack(sparse_matrix_list).tocsr()\n",
    " \n",
    "# hstack(행렬 리스트).tocsr() 의 역할은 희소행렬 리스트들을 가로로 쌓은 희소행렬로 만든 뒤 CSR 형식으로 저장한다는 의미\n",
    "print(type(X_features_sparse), X_features_sparse.shape)\n",
    "\n",
    "# 데이터 셋이 메모리를 많이 차지하므로 사용 용도가 끝났으면 바로 메모리에서 삭제.\n",
    "del X_features_sparse\n",
    "gc.collect() # del 변수를 해도 실제 메모리 상에 삭제가 안되기 때문에 gc(garbage collection)을 통해 메모리에서 삭제"
   ]
  },
  {
   "cell_type": "markdown",
   "metadata": {},
   "source": [
    "3. 회귀 모델 구축/학습/예측/평가 \n",
    "- 평가함수와 학습함수를 사용자함수로 따로 만들어 놓고, 여러가지 모델로 학습/예측/평가 비교해본다."
   ]
  },
  {
   "cell_type": "markdown",
   "metadata": {},
   "source": [
    "- 평가함수 만들기\n",
    "\n",
    "평가지표는 RMSLE (낮은 가격보다 높은가격에서 상대적으로 더 오류가 커지는 것 방지)\n",
    "타겟값인 price를 이미 log변환해뒀기 때문에 RMSLE 적용전에 expm1로 데이터 원복후 적용해야함"
   ]
  },
  {
   "cell_type": "code",
   "execution_count": 112,
   "metadata": {},
   "outputs": [],
   "source": [
    "def rmsle(y , y_pred):\n",
    "    # underflow, overflow를 막기 위해 log가 아닌 log1p로 rmsle 계산\n",
    "    return np.sqrt(np.mean(np.power(np.log1p(y) - np.log1p(y_pred), 2)))\n",
    "\n",
    "def evaluate_org_price(y_test , preds):\n",
    "\n",
    "    # 원본 데이터는 log1p로 변환되었으므로 exmpm1으로 원복 필요.\n",
    "    preds_exmpm = np.expm1(preds)\n",
    "    y_test_exmpm = np.expm1(y_test)\n",
    "   \n",
    "    # rmsle로 RMSLE 값 추출\n",
    "    rmsle_result = rmsle(y_test_exmpm, preds_exmpm)\n",
    "    return rmsle_result"
   ]
  },
  {
   "cell_type": "markdown",
   "metadata": {},
   "source": [
    "- 학습/예측 함수 만들기\n",
    "\n",
    "model 에는 estimator를, matrix_list 에는 결합해야하는 희소행렬리스트를 입력한다. \n",
    "결합된 희소행렬 피쳐데이터와, 기존 라벨을 이용해 입력된 회귀모델로 예측된 값과 테스트 라벨을 반환한다. "
   ]
  },
  {
   "cell_type": "code",
   "execution_count": 113,
   "metadata": {},
   "outputs": [],
   "source": [
    "def model_train_predict(model,matrix_list):\n",
    "    # scipy.sparse 모듈의 hstack 을 이용하여 sparse matrix 결합\n",
    "    X= hstack(matrix_list).tocsr()\n",
    "    \n",
    "    X_train, X_test, y_train, y_test=train_test_split(X, mercari_df['price'],\n",
    "                                                      test_size=0.2, random_state=156)\n",
    "   \n",
    "    # 모델 학습 및 예측\n",
    "    model.fit(X_train , y_train)\n",
    "    preds = model.predict(X_test)\n",
    "   \n",
    "    # 메모리를 위해 다 쓴 원본데이터는 삭제해줌\n",
    "    del X , X_train , X_test , y_train\n",
    "    gc.collect()\n",
    "   \n",
    "    return preds , y_test"
   ]
  },
  {
   "cell_type": "code",
   "execution_count": 114,
   "metadata": {},
   "outputs": [
    {
     "name": "stdout",
     "output_type": "stream",
     "text": [
      "Item Description을 제외했을 때 rmsle 값: 0.5264897702248893\n",
      "Item Description을 포함한 rmsle 값: 0.5089966934298036\n"
     ]
    }
   ],
   "source": [
    "# Ridge regression 모델을 통한 학습/예측/평가 진행. Item_Description 을 빼고도 평가했을 때 필요한 피쳐임을 알 수 있음\n",
    "\n",
    "linear_model = Ridge(solver = \"lsqr\", fit_intercept=False)\n",
    "\n",
    "sparse_matrix_list = (X_name, X_brand, X_item_cond_id,\n",
    "                      X_shipping, X_cat_dae, X_cat_jung, X_cat_so)\n",
    "linear_preds , y_test = model_train_predict(model=linear_model ,matrix_list=sparse_matrix_list)\n",
    "print('Item Description을 제외했을 때 rmsle 값:', evaluate_org_price(y_test , linear_preds))\n",
    "\n",
    "sparse_matrix_list = (X_descp, X_name, X_brand, X_item_cond_id,\n",
    "                      X_shipping, X_cat_dae, X_cat_jung, X_cat_so)\n",
    "linear_preds , y_test = model_train_predict(model=linear_model , matrix_list=sparse_matrix_list)\n",
    "print('Item Description을 포함한 rmsle 값:',  evaluate_org_price(y_test ,linear_preds))"
   ]
  },
  {
   "cell_type": "code",
   "execution_count": 115,
   "metadata": {},
   "outputs": [
    {
     "name": "stdout",
     "output_type": "stream",
     "text": [
      "[LightGBM] [Info] Auto-choosing col-wise multi-threading, the overhead of testing was 3.499088 seconds.\n",
      "You can set `force_col_wise=true` to remove the overhead.\n",
      "[LightGBM] [Info] Total Bins 553321\n",
      "[LightGBM] [Info] Number of data points in the train set: 118602, number of used features: 21184\n",
      "[LightGBM] [Info] Start training from score 2.980698\n",
      "LightGBM rmsle 값: 0.526838672128522\n"
     ]
    }
   ],
   "source": [
    "from lightgbm import LGBMRegressor\n",
    "\n",
    "sparse_matrix_list = (X_descp, X_name, X_brand, X_item_cond_id,\n",
    "                      X_shipping, X_cat_dae, X_cat_jung, X_cat_so)\n",
    "\n",
    "lgbm_model = LGBMRegressor(n_estimators=200, learning_rate=0.5, num_leaves=125, random_state=156)\n",
    "lgbm_preds , y_test = model_train_predict(model = lgbm_model , matrix_list=sparse_matrix_list)\n",
    "print('LightGBM rmsle 값:',  evaluate_org_price(y_test , lgbm_preds))"
   ]
  },
  {
   "cell_type": "code",
   "execution_count": 116,
   "metadata": {},
   "outputs": [
    {
     "name": "stdout",
     "output_type": "stream",
     "text": [
      "LightGBM과 Ridge를 ensemble한 최종 rmsle 값: 0.4898128519636576\n"
     ]
    }
   ],
   "source": [
    "# 서로다른 두개의 회귀모델을 가중평균하는 간단한 앙상블로 성늘 향상 만듬\n",
    "# (회귀에서는 이렇게 가중평균으로도 간단한 앙상블을 수행하기도함,가중 비율에 대한 기준은 없음. 주로 성능높은 모델의 가중을 높임) \n",
    " \n",
    "preds = lgbm_preds * 0.45 + linear_preds * 0.55\n",
    "print('LightGBM과 Ridge를 ensemble한 최종 rmsle 값:',  evaluate_org_price(y_test , preds))"
   ]
  }
 ],
 "metadata": {
  "kernelspec": {
   "display_name": "base",
   "language": "python",
   "name": "python3"
  },
  "language_info": {
   "codemirror_mode": {
    "name": "ipython",
    "version": 3
   },
   "file_extension": ".py",
   "mimetype": "text/x-python",
   "name": "python",
   "nbconvert_exporter": "python",
   "pygments_lexer": "ipython3",
   "version": "3.10.9"
  }
 },
 "nbformat": 4,
 "nbformat_minor": 2
}
